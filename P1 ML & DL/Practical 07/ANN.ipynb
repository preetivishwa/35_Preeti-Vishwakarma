{
  "nbformat": 4,
  "nbformat_minor": 0,
  "metadata": {
    "colab": {
      "name": "ANN.ipynb",
      "provenance": []
    },
    "kernelspec": {
      "name": "python3",
      "display_name": "Python 3"
    }
  },
  "cells": [
    {
      "cell_type": "code",
      "metadata": {
        "id": "ZCq5_nweOTSA"
      },
      "source": [
        "import numpy as np\r\n",
        "import pandas as pd\r\n",
        "import tensorflow as tf"
      ],
      "execution_count": 3,
      "outputs": []
    },
    {
      "cell_type": "code",
      "metadata": {
        "colab": {
          "base_uri": "https://localhost:8080/",
          "height": 35
        },
        "id": "e7xd-vXoO7Ir",
        "outputId": "8999cf8b-4948-4561-a84b-ceb0096e3935"
      },
      "source": [
        "tf.__version__"
      ],
      "execution_count": 4,
      "outputs": [
        {
          "output_type": "execute_result",
          "data": {
            "application/vnd.google.colaboratory.intrinsic+json": {
              "type": "string"
            },
            "text/plain": [
              "'2.4.0'"
            ]
          },
          "metadata": {
            "tags": []
          },
          "execution_count": 4
        }
      ]
    },
    {
      "cell_type": "code",
      "metadata": {
        "id": "FLI4meOqPnCY"
      },
      "source": [
        "dataset = pd.read_csv('Churn_Modelling.csv')\r\n",
        "X = dataset.iloc[:, 3:-1].values\r\n",
        "y = dataset.iloc[:, -1].values"
      ],
      "execution_count": 6,
      "outputs": []
    },
    {
      "cell_type": "code",
      "metadata": {
        "colab": {
          "base_uri": "https://localhost:8080/"
        },
        "id": "bppiTF7iPqMq",
        "outputId": "8f65c3e8-c1cf-4846-cfdd-f76791a5cb2b"
      },
      "source": [
        "print(X)"
      ],
      "execution_count": 7,
      "outputs": [
        {
          "output_type": "stream",
          "text": [
            "[[619 'France' 'Female' ... 1 1 101348.88]\n",
            " [608 'Spain' 'Female' ... 0 1 112542.58]\n",
            " [502 'France' 'Female' ... 1 0 113931.57]\n",
            " ...\n",
            " [709 'France' 'Female' ... 0 1 42085.58]\n",
            " [772 'Germany' 'Male' ... 1 0 92888.52]\n",
            " [792 'France' 'Female' ... 1 0 38190.78]]\n"
          ],
          "name": "stdout"
        }
      ]
    },
    {
      "cell_type": "code",
      "metadata": {
        "colab": {
          "base_uri": "https://localhost:8080/"
        },
        "id": "yUHji-TvPtrw",
        "outputId": "7e40acf3-ada4-43c6-ed2c-0b9e2ae7204f"
      },
      "source": [
        "print(y)"
      ],
      "execution_count": 8,
      "outputs": [
        {
          "output_type": "stream",
          "text": [
            "[1 0 1 ... 1 1 0]\n"
          ],
          "name": "stdout"
        }
      ]
    },
    {
      "cell_type": "code",
      "metadata": {
        "id": "YhjZ-kURP1mH"
      },
      "source": [
        "from sklearn.preprocessing import LabelEncoder\r\n",
        "le = LabelEncoder()\r\n",
        "X[:, 2] = le.fit_transform(X[:, 2])"
      ],
      "execution_count": 9,
      "outputs": []
    },
    {
      "cell_type": "code",
      "metadata": {
        "colab": {
          "base_uri": "https://localhost:8080/"
        },
        "id": "dSlfuWPMP5gF",
        "outputId": "6ddd2b84-f16d-467a-ccd2-ece96b83adbc"
      },
      "source": [
        "print(X)"
      ],
      "execution_count": 10,
      "outputs": [
        {
          "output_type": "stream",
          "text": [
            "[[619 'France' 0 ... 1 1 101348.88]\n",
            " [608 'Spain' 0 ... 0 1 112542.58]\n",
            " [502 'France' 0 ... 1 0 113931.57]\n",
            " ...\n",
            " [709 'France' 0 ... 0 1 42085.58]\n",
            " [772 'Germany' 1 ... 1 0 92888.52]\n",
            " [792 'France' 0 ... 1 0 38190.78]]\n"
          ],
          "name": "stdout"
        }
      ]
    },
    {
      "cell_type": "code",
      "metadata": {
        "id": "7G7FscJsP-XV"
      },
      "source": [
        "from sklearn.compose import ColumnTransformer\r\n",
        "from sklearn.preprocessing import OneHotEncoder\r\n",
        "ct = ColumnTransformer(transformers=[('encoder', OneHotEncoder(), [1])], remainder='passthrough')\r\n",
        "X = np.array(ct.fit_transform(X))"
      ],
      "execution_count": 11,
      "outputs": []
    },
    {
      "cell_type": "code",
      "metadata": {
        "colab": {
          "base_uri": "https://localhost:8080/"
        },
        "id": "CDg9GpsoQB-r",
        "outputId": "8ac291be-6f27-4daa-f85d-ff3feeed8272"
      },
      "source": [
        "print(X)"
      ],
      "execution_count": 12,
      "outputs": [
        {
          "output_type": "stream",
          "text": [
            "[[1.0 0.0 0.0 ... 1 1 101348.88]\n",
            " [0.0 0.0 1.0 ... 0 1 112542.58]\n",
            " [1.0 0.0 0.0 ... 1 0 113931.57]\n",
            " ...\n",
            " [1.0 0.0 0.0 ... 0 1 42085.58]\n",
            " [0.0 1.0 0.0 ... 1 0 92888.52]\n",
            " [1.0 0.0 0.0 ... 1 0 38190.78]]\n"
          ],
          "name": "stdout"
        }
      ]
    },
    {
      "cell_type": "code",
      "metadata": {
        "id": "B7EX94GvQGFm"
      },
      "source": [
        "from sklearn.model_selection import train_test_split\r\n",
        "X_train, X_test, y_train, y_test = train_test_split(X, y, test_size = 0.2, random_state = 0)"
      ],
      "execution_count": 13,
      "outputs": []
    },
    {
      "cell_type": "code",
      "metadata": {
        "id": "j2WsiUc1QKiP"
      },
      "source": [
        "from sklearn.preprocessing import StandardScaler\r\n",
        "sc = StandardScaler()\r\n",
        "X_train = sc.fit_transform(X_train)\r\n",
        "X_test = sc.transform(X_test)"
      ],
      "execution_count": 14,
      "outputs": []
    },
    {
      "cell_type": "code",
      "metadata": {
        "id": "Difq4FYaQdMv"
      },
      "source": [
        "ann = tf.keras.models.Sequential()"
      ],
      "execution_count": 15,
      "outputs": []
    },
    {
      "cell_type": "code",
      "metadata": {
        "id": "TlqvcFqvQk5C"
      },
      "source": [
        "ann.add(tf.keras.layers.Dense(units=6, activation='relu'))"
      ],
      "execution_count": 16,
      "outputs": []
    },
    {
      "cell_type": "code",
      "metadata": {
        "id": "0K6lTwD5Qo-h"
      },
      "source": [
        "ann.add(tf.keras.layers.Dense(units=6, activation='relu'))"
      ],
      "execution_count": 17,
      "outputs": []
    },
    {
      "cell_type": "code",
      "metadata": {
        "id": "1JOJ5XPgQtZA"
      },
      "source": [
        "ann.add(tf.keras.layers.Dense(units=1, activation='sigmoid'))"
      ],
      "execution_count": 18,
      "outputs": []
    },
    {
      "cell_type": "code",
      "metadata": {
        "id": "sVPEgyQwQxGL"
      },
      "source": [
        "ann.compile(optimizer = 'adam', loss = 'binary_crossentropy', metrics = ['accuracy'])"
      ],
      "execution_count": 19,
      "outputs": []
    },
    {
      "cell_type": "code",
      "metadata": {
        "colab": {
          "base_uri": "https://localhost:8080/"
        },
        "id": "az3uVQ76Q1BO",
        "outputId": "4965efa3-9635-41cb-9819-4e92845635fd"
      },
      "source": [
        "ann.fit(X_train, y_train, batch_size = 32, epochs = 100)"
      ],
      "execution_count": 20,
      "outputs": [
        {
          "output_type": "stream",
          "text": [
            "Epoch 1/100\n",
            "250/250 [==============================] - 1s 1000us/step - loss: 0.5867 - accuracy: 0.7339\n",
            "Epoch 2/100\n",
            "250/250 [==============================] - 0s 982us/step - loss: 0.4921 - accuracy: 0.7956\n",
            "Epoch 3/100\n",
            "250/250 [==============================] - 0s 941us/step - loss: 0.4668 - accuracy: 0.7926\n",
            "Epoch 4/100\n",
            "250/250 [==============================] - 0s 961us/step - loss: 0.4327 - accuracy: 0.8001\n",
            "Epoch 5/100\n",
            "250/250 [==============================] - 0s 937us/step - loss: 0.4382 - accuracy: 0.8013\n",
            "Epoch 6/100\n",
            "250/250 [==============================] - 0s 991us/step - loss: 0.4204 - accuracy: 0.8154\n",
            "Epoch 7/100\n",
            "250/250 [==============================] - 0s 932us/step - loss: 0.4125 - accuracy: 0.8212\n",
            "Epoch 8/100\n",
            "250/250 [==============================] - 0s 926us/step - loss: 0.4209 - accuracy: 0.8239\n",
            "Epoch 9/100\n",
            "250/250 [==============================] - 0s 946us/step - loss: 0.4159 - accuracy: 0.8186\n",
            "Epoch 10/100\n",
            "250/250 [==============================] - 0s 945us/step - loss: 0.4024 - accuracy: 0.8279\n",
            "Epoch 11/100\n",
            "250/250 [==============================] - 0s 933us/step - loss: 0.3996 - accuracy: 0.8258\n",
            "Epoch 12/100\n",
            "250/250 [==============================] - 0s 929us/step - loss: 0.3931 - accuracy: 0.8347\n",
            "Epoch 13/100\n",
            "250/250 [==============================] - 0s 909us/step - loss: 0.3933 - accuracy: 0.8325\n",
            "Epoch 14/100\n",
            "250/250 [==============================] - 0s 980us/step - loss: 0.3915 - accuracy: 0.8349\n",
            "Epoch 15/100\n",
            "250/250 [==============================] - 0s 930us/step - loss: 0.3777 - accuracy: 0.8389\n",
            "Epoch 16/100\n",
            "250/250 [==============================] - 0s 909us/step - loss: 0.3829 - accuracy: 0.8373\n",
            "Epoch 17/100\n",
            "250/250 [==============================] - 0s 928us/step - loss: 0.3662 - accuracy: 0.8461\n",
            "Epoch 18/100\n",
            "250/250 [==============================] - 0s 951us/step - loss: 0.3662 - accuracy: 0.8476\n",
            "Epoch 19/100\n",
            "250/250 [==============================] - 0s 951us/step - loss: 0.3717 - accuracy: 0.8450\n",
            "Epoch 20/100\n",
            "250/250 [==============================] - 0s 938us/step - loss: 0.3771 - accuracy: 0.8409\n",
            "Epoch 21/100\n",
            "250/250 [==============================] - 0s 933us/step - loss: 0.3614 - accuracy: 0.8497\n",
            "Epoch 22/100\n",
            "250/250 [==============================] - 0s 944us/step - loss: 0.3653 - accuracy: 0.8463\n",
            "Epoch 23/100\n",
            "250/250 [==============================] - 0s 1ms/step - loss: 0.3433 - accuracy: 0.8621\n",
            "Epoch 24/100\n",
            "250/250 [==============================] - 0s 925us/step - loss: 0.3532 - accuracy: 0.8545\n",
            "Epoch 25/100\n",
            "250/250 [==============================] - 0s 908us/step - loss: 0.3541 - accuracy: 0.8528\n",
            "Epoch 26/100\n",
            "250/250 [==============================] - 0s 929us/step - loss: 0.3485 - accuracy: 0.8601\n",
            "Epoch 27/100\n",
            "250/250 [==============================] - 0s 946us/step - loss: 0.3369 - accuracy: 0.8604\n",
            "Epoch 28/100\n",
            "250/250 [==============================] - 0s 916us/step - loss: 0.3479 - accuracy: 0.8543\n",
            "Epoch 29/100\n",
            "250/250 [==============================] - 0s 920us/step - loss: 0.3537 - accuracy: 0.8529\n",
            "Epoch 30/100\n",
            "250/250 [==============================] - 0s 932us/step - loss: 0.3457 - accuracy: 0.8627\n",
            "Epoch 31/100\n",
            "250/250 [==============================] - 0s 951us/step - loss: 0.3552 - accuracy: 0.8582\n",
            "Epoch 32/100\n",
            "250/250 [==============================] - 0s 915us/step - loss: 0.3478 - accuracy: 0.8615\n",
            "Epoch 33/100\n",
            "250/250 [==============================] - 0s 972us/step - loss: 0.3441 - accuracy: 0.8652\n",
            "Epoch 34/100\n",
            "250/250 [==============================] - 0s 968us/step - loss: 0.3472 - accuracy: 0.8625\n",
            "Epoch 35/100\n",
            "250/250 [==============================] - 0s 953us/step - loss: 0.3454 - accuracy: 0.8566\n",
            "Epoch 36/100\n",
            "250/250 [==============================] - 0s 915us/step - loss: 0.3488 - accuracy: 0.8596\n",
            "Epoch 37/100\n",
            "250/250 [==============================] - 0s 943us/step - loss: 0.3506 - accuracy: 0.8610\n",
            "Epoch 38/100\n",
            "250/250 [==============================] - 0s 908us/step - loss: 0.3429 - accuracy: 0.8578\n",
            "Epoch 39/100\n",
            "250/250 [==============================] - 0s 951us/step - loss: 0.3514 - accuracy: 0.8589\n",
            "Epoch 40/100\n",
            "250/250 [==============================] - 0s 952us/step - loss: 0.3427 - accuracy: 0.8607\n",
            "Epoch 41/100\n",
            "250/250 [==============================] - 0s 939us/step - loss: 0.3426 - accuracy: 0.8629\n",
            "Epoch 42/100\n",
            "250/250 [==============================] - 0s 995us/step - loss: 0.3340 - accuracy: 0.8674\n",
            "Epoch 43/100\n",
            "250/250 [==============================] - 0s 931us/step - loss: 0.3372 - accuracy: 0.8628\n",
            "Epoch 44/100\n",
            "250/250 [==============================] - 0s 1ms/step - loss: 0.3513 - accuracy: 0.8530\n",
            "Epoch 45/100\n",
            "250/250 [==============================] - 0s 912us/step - loss: 0.3388 - accuracy: 0.8624\n",
            "Epoch 46/100\n",
            "250/250 [==============================] - 0s 941us/step - loss: 0.3502 - accuracy: 0.8596\n",
            "Epoch 47/100\n",
            "250/250 [==============================] - 0s 968us/step - loss: 0.3369 - accuracy: 0.8611\n",
            "Epoch 48/100\n",
            "250/250 [==============================] - 0s 956us/step - loss: 0.3379 - accuracy: 0.8627\n",
            "Epoch 49/100\n",
            "250/250 [==============================] - 0s 983us/step - loss: 0.3350 - accuracy: 0.8635\n",
            "Epoch 50/100\n",
            "250/250 [==============================] - 0s 935us/step - loss: 0.3412 - accuracy: 0.8642\n",
            "Epoch 51/100\n",
            "250/250 [==============================] - 0s 984us/step - loss: 0.3343 - accuracy: 0.8613\n",
            "Epoch 52/100\n",
            "250/250 [==============================] - 0s 949us/step - loss: 0.3323 - accuracy: 0.8672\n",
            "Epoch 53/100\n",
            "250/250 [==============================] - 0s 922us/step - loss: 0.3398 - accuracy: 0.8623\n",
            "Epoch 54/100\n",
            "250/250 [==============================] - 0s 913us/step - loss: 0.3384 - accuracy: 0.8644\n",
            "Epoch 55/100\n",
            "250/250 [==============================] - 0s 970us/step - loss: 0.3422 - accuracy: 0.8590\n",
            "Epoch 56/100\n",
            "250/250 [==============================] - 0s 951us/step - loss: 0.3270 - accuracy: 0.8688\n",
            "Epoch 57/100\n",
            "250/250 [==============================] - 0s 944us/step - loss: 0.3483 - accuracy: 0.8633\n",
            "Epoch 58/100\n",
            "250/250 [==============================] - 0s 927us/step - loss: 0.3451 - accuracy: 0.8603\n",
            "Epoch 59/100\n",
            "250/250 [==============================] - 0s 938us/step - loss: 0.3385 - accuracy: 0.8646\n",
            "Epoch 60/100\n",
            "250/250 [==============================] - 0s 1000us/step - loss: 0.3244 - accuracy: 0.8682\n",
            "Epoch 61/100\n",
            "250/250 [==============================] - 0s 950us/step - loss: 0.3356 - accuracy: 0.8613\n",
            "Epoch 62/100\n",
            "250/250 [==============================] - 0s 964us/step - loss: 0.3395 - accuracy: 0.8622\n",
            "Epoch 63/100\n",
            "250/250 [==============================] - 0s 950us/step - loss: 0.3335 - accuracy: 0.8640\n",
            "Epoch 64/100\n",
            "250/250 [==============================] - 0s 939us/step - loss: 0.3380 - accuracy: 0.8626\n",
            "Epoch 65/100\n",
            "250/250 [==============================] - 0s 928us/step - loss: 0.3389 - accuracy: 0.8642\n",
            "Epoch 66/100\n",
            "250/250 [==============================] - 0s 965us/step - loss: 0.3331 - accuracy: 0.8696\n",
            "Epoch 67/100\n",
            "250/250 [==============================] - 0s 938us/step - loss: 0.3280 - accuracy: 0.8637\n",
            "Epoch 68/100\n",
            "250/250 [==============================] - 0s 960us/step - loss: 0.3265 - accuracy: 0.8674\n",
            "Epoch 69/100\n",
            "250/250 [==============================] - 0s 985us/step - loss: 0.3342 - accuracy: 0.8630\n",
            "Epoch 70/100\n",
            "250/250 [==============================] - 0s 991us/step - loss: 0.3213 - accuracy: 0.8723\n",
            "Epoch 71/100\n",
            "250/250 [==============================] - 0s 940us/step - loss: 0.3285 - accuracy: 0.8657\n",
            "Epoch 72/100\n",
            "250/250 [==============================] - 0s 923us/step - loss: 0.3358 - accuracy: 0.8607\n",
            "Epoch 73/100\n",
            "250/250 [==============================] - 0s 949us/step - loss: 0.3219 - accuracy: 0.8729\n",
            "Epoch 74/100\n",
            "250/250 [==============================] - 0s 959us/step - loss: 0.3435 - accuracy: 0.8585\n",
            "Epoch 75/100\n",
            "250/250 [==============================] - 0s 937us/step - loss: 0.3432 - accuracy: 0.8557\n",
            "Epoch 76/100\n",
            "250/250 [==============================] - 0s 952us/step - loss: 0.3439 - accuracy: 0.8550\n",
            "Epoch 77/100\n",
            "250/250 [==============================] - 0s 966us/step - loss: 0.3350 - accuracy: 0.8617\n",
            "Epoch 78/100\n",
            "250/250 [==============================] - 0s 984us/step - loss: 0.3183 - accuracy: 0.8735\n",
            "Epoch 79/100\n",
            "250/250 [==============================] - 0s 1ms/step - loss: 0.3240 - accuracy: 0.8660\n",
            "Epoch 80/100\n",
            "250/250 [==============================] - 0s 911us/step - loss: 0.3362 - accuracy: 0.8599\n",
            "Epoch 81/100\n",
            "250/250 [==============================] - 0s 972us/step - loss: 0.3301 - accuracy: 0.8650\n",
            "Epoch 82/100\n",
            "250/250 [==============================] - 0s 1ms/step - loss: 0.3353 - accuracy: 0.8674\n",
            "Epoch 83/100\n",
            "250/250 [==============================] - 0s 956us/step - loss: 0.3403 - accuracy: 0.8608\n",
            "Epoch 84/100\n",
            "250/250 [==============================] - 0s 957us/step - loss: 0.3270 - accuracy: 0.8624\n",
            "Epoch 85/100\n",
            "250/250 [==============================] - 0s 988us/step - loss: 0.3240 - accuracy: 0.8688\n",
            "Epoch 86/100\n",
            "250/250 [==============================] - 0s 980us/step - loss: 0.3249 - accuracy: 0.8726\n",
            "Epoch 87/100\n",
            "250/250 [==============================] - 0s 1ms/step - loss: 0.3416 - accuracy: 0.8567\n",
            "Epoch 88/100\n",
            "250/250 [==============================] - 0s 905us/step - loss: 0.3275 - accuracy: 0.8677\n",
            "Epoch 89/100\n",
            "250/250 [==============================] - 0s 987us/step - loss: 0.3332 - accuracy: 0.8649\n",
            "Epoch 90/100\n",
            "250/250 [==============================] - 0s 963us/step - loss: 0.3388 - accuracy: 0.8627\n",
            "Epoch 91/100\n",
            "250/250 [==============================] - 0s 917us/step - loss: 0.3334 - accuracy: 0.8640\n",
            "Epoch 92/100\n",
            "250/250 [==============================] - 0s 1ms/step - loss: 0.3367 - accuracy: 0.8625\n",
            "Epoch 93/100\n",
            "250/250 [==============================] - 0s 968us/step - loss: 0.3334 - accuracy: 0.8627\n",
            "Epoch 94/100\n",
            "250/250 [==============================] - 0s 916us/step - loss: 0.3234 - accuracy: 0.8721\n",
            "Epoch 95/100\n",
            "250/250 [==============================] - 0s 981us/step - loss: 0.3349 - accuracy: 0.8601\n",
            "Epoch 96/100\n",
            "250/250 [==============================] - 0s 975us/step - loss: 0.3253 - accuracy: 0.8654\n",
            "Epoch 97/100\n",
            "250/250 [==============================] - 0s 984us/step - loss: 0.3305 - accuracy: 0.8669\n",
            "Epoch 98/100\n",
            "250/250 [==============================] - 0s 1ms/step - loss: 0.3362 - accuracy: 0.8628\n",
            "Epoch 99/100\n",
            "250/250 [==============================] - 0s 957us/step - loss: 0.3374 - accuracy: 0.8621\n",
            "Epoch 100/100\n",
            "250/250 [==============================] - 0s 967us/step - loss: 0.3314 - accuracy: 0.8675\n"
          ],
          "name": "stdout"
        },
        {
          "output_type": "execute_result",
          "data": {
            "text/plain": [
              "<tensorflow.python.keras.callbacks.History at 0x7f18f7601908>"
            ]
          },
          "metadata": {
            "tags": []
          },
          "execution_count": 20
        }
      ]
    },
    {
      "cell_type": "code",
      "metadata": {
        "colab": {
          "base_uri": "https://localhost:8080/"
        },
        "id": "4wUDGI2JQ6cg",
        "outputId": "a8bf10d7-80ad-43e4-cf89-453ff581c454"
      },
      "source": [
        "print(ann.predict(sc.transform([[1, 0, 0, 600, 1, 40, 3, 60000, 2, 1, 1, 50000]])) > 0.5)"
      ],
      "execution_count": 22,
      "outputs": [
        {
          "output_type": "stream",
          "text": [
            "[[False]]\n"
          ],
          "name": "stdout"
        }
      ]
    },
    {
      "cell_type": "code",
      "metadata": {
        "colab": {
          "base_uri": "https://localhost:8080/"
        },
        "id": "mwW79YUaRBEr",
        "outputId": "a7b5db09-9955-4707-f841-f9568266adf5"
      },
      "source": [
        "y_pred = ann.predict(X_test)\r\n",
        "y_pred = (y_pred > 0.5)\r\n",
        "print(np.concatenate((y_pred.reshape(len(y_pred),1), y_test.reshape(len(y_test),1)),1))"
      ],
      "execution_count": 23,
      "outputs": [
        {
          "output_type": "stream",
          "text": [
            "[[0 0]\n",
            " [0 1]\n",
            " [0 0]\n",
            " ...\n",
            " [0 0]\n",
            " [0 0]\n",
            " [0 0]]\n"
          ],
          "name": "stdout"
        }
      ]
    },
    {
      "cell_type": "code",
      "metadata": {
        "colab": {
          "base_uri": "https://localhost:8080/"
        },
        "id": "J4TvBigsRGy3",
        "outputId": "c6afaebc-143c-498b-dda5-a87b93365595"
      },
      "source": [
        "from sklearn.metrics import confusion_matrix, accuracy_score\r\n",
        "cm = confusion_matrix(y_test, y_pred)\r\n",
        "print(cm)\r\n",
        "accuracy_score(y_test, y_pred)"
      ],
      "execution_count": 24,
      "outputs": [
        {
          "output_type": "stream",
          "text": [
            "[[1514   81]\n",
            " [ 190  215]]\n"
          ],
          "name": "stdout"
        },
        {
          "output_type": "execute_result",
          "data": {
            "text/plain": [
              "0.8645"
            ]
          },
          "metadata": {
            "tags": []
          },
          "execution_count": 24
        }
      ]
    }
  ]
}